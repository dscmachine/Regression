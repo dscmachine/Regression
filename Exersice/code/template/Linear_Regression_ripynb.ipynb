{
  "nbformat": 4,
  "nbformat_minor": 0,
  "metadata": {
    "kernelspec": {
      "display_name": "Python 3",
      "language": "python",
      "name": "python3"
    },
    "language_info": {
      "codemirror_mode": {
        "name": "ipython",
        "version": 3
      },
      "file_extension": ".py",
      "mimetype": "text/x-python",
      "name": "python",
      "nbconvert_exporter": "python",
      "pygments_lexer": "ipython3",
      "version": "3.7.6"
    },
    "colab": {
      "name": " Linear Regression.ripynb",
      "provenance": []
    }
  },
  "cells": [
    {
      "cell_type": "markdown",
      "metadata": {
        "id": "-yE155zTbcIM"
      },
      "source": [
        "# follow up  template after that write the code\n",
        "\n",
        "\n",
        "\n",
        "\n"
      ]
    },
    {
      "cell_type": "markdown",
      "metadata": {
        "id": "o33pbG4ObcIS"
      },
      "source": [
        "## 1. Let's Now Import library of pandas and numpy\r\n",
        "\r\n",
        "\r\n"
      ]
    },
    {
      "cell_type": "code",
      "metadata": {
        "id": "t8wcAlRwc0TW"
      },
      "source": [
        ""
      ],
      "execution_count": null,
      "outputs": []
    },
    {
      "cell_type": "markdown",
      "metadata": {
        "id": "i4lOrqedbcIU"
      },
      "source": [
        "## 2. Load The Data into a Pandas Frame , hint  use **pd.read_csv**"
      ]
    },
    {
      "cell_type": "code",
      "metadata": {
        "id": "ETWG1gSobcIV"
      },
      "source": [
        ""
      ],
      "execution_count": null,
      "outputs": []
    },
    {
      "cell_type": "markdown",
      "metadata": {
        "id": "DTPhFrXZk6oP"
      },
      "source": [
        "## 3. define x is the features of dataframe and y is label , hint use **df.iloc**"
      ]
    },
    {
      "cell_type": "code",
      "metadata": {
        "id": "jp5k1OtolZKA"
      },
      "source": [
        ""
      ],
      "execution_count": null,
      "outputs": []
    },
    {
      "cell_type": "markdown",
      "metadata": {
        "id": "O6QT36D1bcIX"
      },
      "source": [
        "### 4.Drop (id,date) column from x(independent variables ),  hint use **drop()** function"
      ]
    },
    {
      "cell_type": "code",
      "metadata": {
        "id": "xLOHkMFlgtKq"
      },
      "source": [
        ""
      ],
      "execution_count": null,
      "outputs": []
    },
    {
      "cell_type": "markdown",
      "metadata": {
        "id": "EyqXrbVcgVZN"
      },
      "source": [
        "## 5. Splitting the dataset into the Training set and Test set and put **random_state=2**\r\n"
      ]
    },
    {
      "cell_type": "code",
      "metadata": {
        "id": "Jy3gxpiMe8Fq"
      },
      "source": [
        ""
      ],
      "execution_count": null,
      "outputs": []
    },
    {
      "cell_type": "markdown",
      "metadata": {
        "id": "WrwJdsKJbcIa"
      },
      "source": [
        "## 6. Fitting Linear Regression to the dataset and count regression.score"
      ]
    },
    {
      "cell_type": "code",
      "metadata": {
        "id": "K7IHcDIqbcIa"
      },
      "source": [
        ""
      ],
      "execution_count": null,
      "outputs": []
    }
  ]
}