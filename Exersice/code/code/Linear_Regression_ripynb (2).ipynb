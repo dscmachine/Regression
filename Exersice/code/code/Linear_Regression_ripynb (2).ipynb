{
 "cells": [
  {
   "cell_type": "markdown",
   "metadata": {
    "id": "-yE155zTbcIM"
   },
   "source": [
    "# follow up  template after that write the code\n",
    "\n",
    "\n",
    "\n",
    "\n"
   ]
  },
  {
   "cell_type": "markdown",
   "metadata": {
    "id": "o33pbG4ObcIS"
   },
   "source": [
    "## 1. Let's Now Import library of pandas and numpy\n",
    "\n",
    "\n"
   ]
  },
  {
   "cell_type": "code",
   "execution_count": 13,
   "metadata": {
    "id": "t8wcAlRwc0TW"
   },
   "outputs": [],
   "source": [
    "import numpy as np\n",
    "import pandas as pd"
   ]
  },
  {
   "cell_type": "markdown",
   "metadata": {
    "id": "i4lOrqedbcIU"
   },
   "source": [
    "## 2. Load The Data into a Pandas Frame , hint  use **pd.read_csv**"
   ]
  },
  {
   "cell_type": "code",
   "execution_count": 14,
   "metadata": {
    "id": "ETWG1gSobcIV"
   },
   "outputs": [],
   "source": [
    "data = pd.read_csv(\"kc_house_data.csv\")\n"
   ]
  },
  {
   "cell_type": "markdown",
   "metadata": {
    "id": "DTPhFrXZk6oP"
   },
   "source": [
    "## 3. define x is the features of dataframe and y is label , hint use **df.iloc**"
   ]
  },
  {
   "cell_type": "code",
   "execution_count": 15,
   "metadata": {
    "id": "jp5k1OtolZKA"
   },
   "outputs": [],
   "source": [
    "x = data.iloc[:, :]   # All columns\n",
    "y=data[\"price\"]    # The price\n"
   ]
  },
  {
   "cell_type": "markdown",
   "metadata": {
    "id": "O6QT36D1bcIX"
   },
   "source": [
    "### 4.Drop (id,date) column from x(independent variables ),  hint use **drop()** function"
   ]
  },
  {
   "cell_type": "code",
   "execution_count": 16,
   "metadata": {
    "id": "xLOHkMFlgtKq"
   },
   "outputs": [],
   "source": [
    "X= data.drop(['id',\"price\",\"date\"],axis=1)"
   ]
  },
  {
   "cell_type": "markdown",
   "metadata": {
    "id": "EyqXrbVcgVZN"
   },
   "source": [
    "## 5. Splitting the dataset into the Training set and Test set and put **random_state=2**\n"
   ]
  },
  {
   "cell_type": "code",
   "execution_count": 17,
   "metadata": {
    "id": "Jy3gxpiMe8Fq"
   },
   "outputs": [],
   "source": [
    "from sklearn.model_selection import train_test_split\n",
    "\n",
    "x_train , x_test , y_train , y_test = train_test_split(X, y , test_size = 0.10,random_state =2)"
   ]
  },
  {
   "cell_type": "markdown",
   "metadata": {
    "id": "WrwJdsKJbcIa"
   },
   "source": [
    "## 6. Fitting Linear Regression to the dataset and count regression.score"
   ]
  },
  {
   "cell_type": "code",
   "execution_count": 18,
   "metadata": {
    "id": "K7IHcDIqbcIa"
   },
   "outputs": [
    {
     "data": {
      "text/plain": [
       "0.7320342760357522"
      ]
     },
     "execution_count": 18,
     "metadata": {},
     "output_type": "execute_result"
    }
   ],
   "source": [
    "from sklearn.linear_model import LinearRegression\n",
    "reg = LinearRegression()\n",
    "reg.fit(x_train,y_train)\n",
    "\n",
    "reg.score(x_test,y_test)"
   ]
  },
  {
   "cell_type": "code",
   "execution_count": null,
   "metadata": {},
   "outputs": [],
   "source": []
  }
 ],
 "metadata": {
  "colab": {
   "name": " Linear Regression.ripynb",
   "provenance": []
  },
  "kernelspec": {
   "display_name": "Python 3",
   "language": "python",
   "name": "python3"
  },
  "language_info": {
   "codemirror_mode": {
    "name": "ipython",
    "version": 3
   },
   "file_extension": ".py",
   "mimetype": "text/x-python",
   "name": "python",
   "nbconvert_exporter": "python",
   "pygments_lexer": "ipython3",
   "version": "3.7.6"
  }
 },
 "nbformat": 4,
 "nbformat_minor": 1
}
